{
 "cells": [
  {
   "cell_type": "code",
   "execution_count": 9,
   "id": "f6662274",
   "metadata": {},
   "outputs": [],
   "source": [
    "import os\n",
    "from dotenv import load_dotenv, find_dotenv\n",
    "\n",
    "_ = load_dotenv(find_dotenv()) # read local .env file \n",
    "SERPAPI_API_KEY = os.environ['SERPAPI_API_KEY']\n",
    "\n",
    "\n",
    "\n",
    "if not SERPAPI_API_KEY:  \n",
    "  raise ValueError(\"Please set SERPAPI_API_KEY environment variables\") \n"
   ]
  },
  {
   "cell_type": "code",
   "execution_count": 5,
   "id": "3c7b487e",
   "metadata": {},
   "outputs": [
    {
     "name": "stderr",
     "output_type": "stream",
     "text": [
      "C:\\Users\\Drishti_De\\AppData\\Roaming\\Python\\Python312\\site-packages\\tqdm\\auto.py:21: TqdmWarning: IProgress not found. Please update jupyter and ipywidgets. See https://ipywidgets.readthedocs.io/en/stable/user_install.html\n",
      "  from .autonotebook import tqdm as notebook_tqdm\n"
     ]
    }
   ],
   "source": [
    "from langchain_ollama import ChatOllama \n",
    "from langchain_community.utilities import SerpAPIWrapper \n",
    "\n",
    "# Initialize LLM \n",
    "llm = ChatOllama(model=\"llama2\", temperature=0) \n",
    "\n",
    "# Web search tool using SerpAPI \n",
    "search = SerpAPIWrapper(serpapi_api_key=SERPAPI_API_KEY) \n"
   ]
  },
  {
   "cell_type": "code",
   "execution_count": 6,
   "id": "f035f09e",
   "metadata": {},
   "outputs": [],
   "source": [
    "from typing import TypedDict \n",
    "  \n",
    "class ResearchState(TypedDict, total=False): \n",
    "  query: str \n",
    "  search_results: str \n",
    "  summary: str \n",
    "  store_message: str \n",
    "  response: str \n",
    "\n",
    "\n",
    "def web_search_tool(query: str) -> str:  \n",
    "  print(f\"Searching the web for: {query}\")  \n",
    "  results = search.run(query)  \n",
    "  return results \n",
    "\n",
    "# ------------------------------\n",
    "\n",
    "from langchain.chains import LLMChain \n",
    "from langchain.prompts import PromptTemplate \n",
    "\n",
    "def summarize_tool(text: str) -> str: \n",
    "  # Basic prompt to summarize text \n",
    "  prompt = PromptTemplate( \n",
    "    input_variables=[\"text\"], \n",
    "    template=\"Summarize the following text in a concise way:\\n\\n{text}\" \n",
    "  ) \n",
    "\n",
    "  chain = prompt | llm \n",
    "  result = chain.invoke({\"text\": text}) \n",
    "  return result.content if hasattr(result, \"content\") else str(result) \n",
    "\n",
    "\n",
    "memory_store = {} \n",
    "\n",
    "def store_tool(data: dict) -> str: \n",
    "  query = data.get(\"query\") \n",
    "  summary = data.get(\"summary\") \n",
    "  if query and summary: \n",
    "    memory_store[query] = summary \n",
    "    return f\"Stored summary for query: '{query}'\" \n",
    "  return \"No data to store\" \n",
    "\n",
    "def respond_tool(query: str) -> str: \n",
    "  summary = memory_store.get(query) \n",
    "  return f\"Final Answer:\\n{summary}\" if summary else \"Sorry, no summary found for your query.\" \n",
    "\n",
    "def ask_handler(state): \n",
    "  user_query = input(\"What do you want to research? \") \n",
    "  state[\"query\"] = user_query \n",
    "  return state \n",
    "\n",
    "def search_handler(state): \n",
    "  query = state.get(\"query\", \"\") \n",
    "  state[\"search_results\"] = web_search_tool(query) \n",
    "  return state \n",
    "\n",
    "def summarize_handler(state): \n",
    "  state[\"summary\"] = summarize_tool(state.get(\"search_results\", \"\")) \n",
    "  return state \n",
    "\n",
    "def store_handler(state): \n",
    "  state[\"store_message\"] = store_tool({ \n",
    "    \"query\": state.get(\"query\"), \n",
    "    \"summary\": state.get(\"summary\") \n",
    "  }) \n",
    "  return state \n",
    " \n",
    "def respond_handler(state): \n",
    "  state[\"response\"] = respond_tool(state.get(\"query\")) \n",
    "  return state \n"
   ]
  },
  {
   "cell_type": "code",
   "execution_count": 7,
   "id": "ca45d674",
   "metadata": {},
   "outputs": [],
   "source": [
    "from langgraph.graph.state import StateGraph \n",
    "\n",
    "graph = StateGraph(state_schema=ResearchState) \n",
    "\n",
    "graph.add_node(\"ask\", ask_handler)  \n",
    "graph.add_node(\"search\", search_handler)  \n",
    "graph.add_node(\"summarize\", summarize_handler)  \n",
    "graph.add_node(\"store\", store_handler)  \n",
    "graph.add_node(\"respond\", respond_handler) \n",
    "\n",
    "graph.set_entry_point(\"ask\")  \n",
    "\n",
    "graph.add_edge(\"ask\", \"search\")  \n",
    "graph.add_edge(\"search\", \"summarize\")  \n",
    "graph.add_edge(\"summarize\", \"store\")  \n",
    "graph.add_edge(\"store\", \"respond\") \n",
    "\n",
    "research_agent = graph.compile()\n"
   ]
  },
  {
   "cell_type": "code",
   "execution_count": 8,
   "id": "ff3a78ff",
   "metadata": {},
   "outputs": [
    {
     "name": "stdout",
     "output_type": "stream",
     "text": [
      "Searching the web for: What is the impact of Agentic AI in our world?\n",
      "Final Answer:\n",
      "Agentic AI is a significant shift in the relationship between humans and intelligent systems, enabling AI agents to operate autonomously, solve complex tasks, and adapt in real-time without continuous human guidance. Agentic AI interprets data, learns from interactions, and makes decisions independently, redeploying the workforce and shifting workers to supervising AI agents. This technology is becoming more widely used in decision-making, automating complex business processes and ensuring impeccable data validation in real-time.\n"
     ]
    }
   ],
   "source": [
    "state = {}  \n",
    "final_state = research_agent.invoke(state)  \n",
    "print(final_state.get(\"response\")) \n"
   ]
  },
  {
   "cell_type": "code",
   "execution_count": null,
   "id": "28b9f412",
   "metadata": {},
   "outputs": [],
   "source": []
  }
 ],
 "metadata": {
  "kernelspec": {
   "display_name": "Python 3",
   "language": "python",
   "name": "python3"
  },
  "language_info": {
   "codemirror_mode": {
    "name": "ipython",
    "version": 3
   },
   "file_extension": ".py",
   "mimetype": "text/x-python",
   "name": "python",
   "nbconvert_exporter": "python",
   "pygments_lexer": "ipython3",
   "version": "3.12.6"
  }
 },
 "nbformat": 4,
 "nbformat_minor": 5
}
